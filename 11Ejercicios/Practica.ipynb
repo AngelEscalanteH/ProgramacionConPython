{
 "cells": [
  {
   "cell_type": "markdown",
   "id": "71a4cd77-80ce-4bf8-a359-22125a400af4",
   "metadata": {},
   "source": [
    "# 11 Ejercicios para que un Desarrollador Junior de Python practice\n",
    "## Realizado por: Luis Angel Escalante Hernandez\n",
    "Este notebook contiene mi resolucion de los ejercicios planteados en [este link](https://www.freecodecamp.org/news/python-projects-junior-developers/).\n",
    "\n",
    "**Índice**   \n",
    "1. [Odd or even](#id1)\n",
    "2. [Mad libs game](#id2)\n",
    "3. [Word Count](#id3)\n",
    "4. [Biography info](#id4)\n",
    "5. [What's my acronym?](#id5)\n",
    "6. [Rock, Paper, Scissors](#id6)\n",
    "7. [Guess the number](#id7)\n",
    "8. [Is a palindrome](#id8)\n",
    "9. [Calculate the tip](#id9)\n",
    "10. [Email slicer](#id10)\n",
    "11. [Lyrics generator](#id11)\n",
    "\n",
    "----\n",
    "### 1. Odd or even <a name=\"id1\"></a>\n",
    "- Dar una bienvenida al usuario\n",
    "- Preguntarles un numero entre el 1 y el 1000\n",
    "- Al obtener el numero, checar si es par o impar\n",
    "- Imprimir un mensaje que les haga saber lo anterior."
   ]
  },
  {
   "cell_type": "code",
   "execution_count": 13,
   "id": "9ecf9fe5-577c-4064-8699-831e9cfaa34c",
   "metadata": {},
   "outputs": [
    {
     "name": "stdout",
     "output_type": "stream",
     "text": [
      "Bienvenido \n",
      " Dame un numero dentro del rango 1 - 1000:  51\n"
     ]
    },
    {
     "name": "stdout",
     "output_type": "stream",
     "text": [
      "El numero '51' es 'impar'\n"
     ]
    }
   ],
   "source": [
    "numero = int(input(\"Bienvenido \\n Dame un numero dentro del rango 1 - 1000: \"))\n",
    "resultado = \"\"\n",
    "\n",
    "if (numero % 2 == 0):\n",
    "    resultado = \"par\"\n",
    "else:\n",
    "    resultado = \"impar\"\n",
    "    \n",
    "mensaje = \"El numero '{}' es '{}'\".format(numero, resultado)\n",
    "\n",
    "print(mensaje)"
   ]
  },
  {
   "cell_type": "markdown",
   "id": "7bb04e3b-ce48-4601-bb94-719dd2cd941a",
   "metadata": {},
   "source": [
    "-----\n",
    "### 2. Mad libs game <a name=\"id2\"></a>\n",
    "- Pedir una entrada del usuario\n",
    "- Despues, crear mi propia historia con esa entrada(s)"
   ]
  },
  {
   "cell_type": "code",
   "execution_count": 3,
   "id": "5f32d56a-91fe-4098-a90e-fa078e63540a",
   "metadata": {},
   "outputs": [
    {
     "name": "stdout",
     "output_type": "stream",
     "text": [
      "Dame el nombre de una persona:  Luis\n",
      "Dame una ubicacion (La Curva, Otay, etc.):  Porticos\n",
      "Dame un verbo en pasado:  comió\n",
      "Dame un adjetivo:  pensativo\n"
     ]
    },
    {
     "name": "stdout",
     "output_type": "stream",
     "text": [
      "El/La pensativo Luis, sentado en una banca en Porticos, comenzo a recordar cuando comió en la misma banca hace 5 años\n"
     ]
    }
   ],
   "source": [
    "nombre = input(\"Dame el nombre de una persona: \")\n",
    "ubicacion = input(\"Dame una ubicacion (La Curva, Otay, etc.): \")\n",
    "verbo = input(\"Dame un verbo en pasado: \")\n",
    "adjetivo = input(\"Dame un adjetivo: \")\n",
    "mensaje = \"El/La {} {}, sentado en una banca en {}, comenzo a recordar cuando {} en la misma banca hace 5 años\".format(adjetivo, nombre, ubicacion, verbo)\n",
    "\n",
    "print(mensaje)\n"
   ]
  },
  {
   "cell_type": "markdown",
   "id": "bc37da80-c35c-40b9-aa12-10fde1fdb26b",
   "metadata": {},
   "source": [
    "-----\n",
    "### 3. Word Count <a name=\"id3\"></a>\n",
    "- Preguntar al usuario que esta pensando\n",
    "- Despues, contar el numero de palabras en la sentencia\n",
    "- Imprimir el numero anterior."
   ]
  },
  {
   "cell_type": "code",
   "execution_count": 4,
   "id": "ff5f6c60-b490-4500-988f-a22db431c987",
   "metadata": {},
   "outputs": [
    {
     "name": "stdout",
     "output_type": "stream",
     "text": [
      "¿Que estas pensando hoy? Que me gusta mi clase de python\n"
     ]
    },
    {
     "name": "stdout",
     "output_type": "stream",
     "text": [
      "Me alegro que te abrieras ante el programa que hice, y lo hiciste usando 7 palabra(s)\n"
     ]
    }
   ],
   "source": [
    "palabras = input(\"¿Que estas pensando hoy?\").split()\n",
    "contador = 0\n",
    "\n",
    "for palabra in palabras:\n",
    "    contador += 1\n",
    "\n",
    "mensaje = \"Me alegro que te abrieras ante el programa que hice, y lo hiciste usando {} palabra(s)\".format(contador)\n",
    "print(mensaje)"
   ]
  },
  {
   "cell_type": "markdown",
   "id": "7c2eb559-4b4f-4655-9126-bb46047d0e06",
   "metadata": {},
   "source": [
    "-----\n",
    "### 4. Biography info <a name=\"id4\"></a>\n",
    "- Preguntar al usuario por ***nombre***, ***fecha de nacimiento***, ***domicilio*** y ***metas personales*** (uno a la vez).\n",
    "- Checar que la información sea valida (ej. No poner un <kbd>*</kbd>)\n",
    "- Imprimir la información que introdujeron."
   ]
  },
  {
   "cell_type": "code",
   "execution_count": 15,
   "id": "30b726c1-d178-420c-abee-571ff25788f4",
   "metadata": {},
   "outputs": [
    {
     "name": "stdout",
     "output_type": "stream",
     "text": [
      "Ingresa tu nombre:  Luis\"#\n"
     ]
    },
    {
     "name": "stdout",
     "output_type": "stream",
     "text": [
      "Ingrese solo caracteres alfanumericos\n"
     ]
    },
    {
     "name": "stdout",
     "output_type": "stream",
     "text": [
      "Ingresa tu nombre:  Luis👍\n"
     ]
    },
    {
     "name": "stdout",
     "output_type": "stream",
     "text": [
      "Ingrese solo caracteres alfanumericos\n"
     ]
    },
    {
     "name": "stdout",
     "output_type": "stream",
     "text": [
      "Ingresa tu nombre:  Luis Angel\n",
      "Ingresa tu fecha de nacimiento:  Octubre 09, 2001\n",
      "Ingresa tu domicilio:  Urbi\n",
      "Ingresa algunas de tus metas:  Programar\n"
     ]
    },
    {
     "name": "stdout",
     "output_type": "stream",
     "text": [
      "\n",
      "----------------\n",
      "Nombre: Luis Angel\n",
      "Fecha de nacimiento: Octubre 09, 2001\n",
      "Domicilio: Urbi\n",
      "Metas: Programar\n"
     ]
    }
   ],
   "source": [
    "# Modulo para trabajar con expresiones regulares\n",
    "import re\n",
    "\n",
    "\"\"\"\n",
    "Metodo que compara las letras de una palabra con una biblioteca de caracteres\n",
    "Regresa True si ninguna letra fue encontrada en la biblioteca, de lo contrario\n",
    "imprime un mensaje para advertir al usuario y regresa False.\n",
    "\n",
    "Recibe palabra: la palabra a comprobar\n",
    "\"\"\"\n",
    "def comprobar(palabra):\n",
    "    biblioteca = re.compile('[^0-9a-zA-Z, ]+')\n",
    "    \n",
    "    if not biblioteca.search(palabra):\n",
    "        return True\n",
    "    else:\n",
    "        print(\"Ingrese solo caracteres alfanumericos\")\n",
    "\n",
    "        return False\n",
    "    \n",
    "\"\"\"\n",
    "Metodo que funciona como ciclo para obtener un dato.\n",
    "\n",
    "Recibe dato: el dato que se solicita, se imprimira al momento de pedirlo\n",
    "\"\"\"\n",
    "def obtener_dato(dato):\n",
    "    mensaje = \"Ingresa {}: \".format(dato)\n",
    "    \n",
    "    while True:\n",
    "        entrada = input(mensaje)\n",
    "    \n",
    "        if comprobar(entrada):\n",
    "            break\n",
    "    return entrada\n",
    "\n",
    "nombre = obtener_dato(\"tu nombre\")\n",
    "nacimiento = obtener_dato(\"tu fecha de nacimiento\")\n",
    "domicilio = obtener_dato(\"tu domicilio\")\n",
    "metas = obtener_dato(\"algunas de tus metas\")\n",
    "mensaje = \"\\n----------------\\nNombre: {}\\nFecha de nacimiento: {}\\nDomicilio: {}\\nMetas: {}\".format(nombre, nacimiento, domicilio, metas)\n",
    "\n",
    "print(mensaje)"
   ]
  },
  {
   "cell_type": "markdown",
   "id": "c1de2e09-f297-4c03-81a4-b4e854198e81",
   "metadata": {},
   "source": [
    "----\n",
    "### 5. What's my acronym? <a name=\"id5\"></a>\n",
    "- Preguntar al usuario el nombre completo de una organización o concepto.\n",
    "- Proveer el acronimo de la entrada anterior."
   ]
  },
  {
   "cell_type": "code",
   "execution_count": 5,
   "id": "95e76c9d-be72-4ca1-8820-9727eeb80e0d",
   "metadata": {},
   "outputs": [
    {
     "name": "stdout",
     "output_type": "stream",
     "text": [
      "\n",
      "El acronimo de Organizacion de las Naciones Unidas, es: ONU\n"
     ]
    }
   ],
   "source": [
    "import re\n",
    "\n",
    "biblioteca = re.compile('[A-Z]+')\n",
    "concepto = input(\"Dame el nombre completo de una organizacion o concepto\")\n",
    "palabras = concepto.split()\n",
    "acronimo = \"\"\n",
    "\n",
    "for palabra in palabras:\n",
    "    if biblioteca.search(palabra):\n",
    "        acronimo += palabra[0]\n",
    "\n",
    "mensaje = \"\\nEl acronimo de {}, es: {}\".format(concepto, acronimo)\n",
    "\n",
    "print(mensaje)\n"
   ]
  },
  {
   "cell_type": "markdown",
   "id": "4051516d-1672-4968-8bb1-89e8646eecba",
   "metadata": {},
   "source": [
    "-----\n",
    "### 6. Rock, Paper, Scissors <a name=\"id6\"></a>\n",
    " - Implementar el juego de piedra, papel y tijeras."
   ]
  },
  {
   "cell_type": "code",
   "execution_count": 9,
   "id": "2526ca53-0551-41b1-9090-c458071830f5",
   "metadata": {},
   "outputs": [
    {
     "name": "stdout",
     "output_type": "stream",
     "text": [
      "\n",
      "----Juego Piedra, Papel y Tijeras----\n",
      "Jugador: piedra\n",
      "Computadora: piedra\n",
      "---Es un empate---\n",
      "\n",
      "Jugador: papel\n",
      "Computadora: piedra\n",
      "---Usted gano!!!---\n",
      "\n"
     ]
    }
   ],
   "source": [
    "from random import randint\n",
    "\n",
    "def jugar():\n",
    "    estado = \"\"\n",
    "\n",
    "    if jugador == \"piedra\":\n",
    "        if computadora == \"piedra\":\n",
    "            estado = \"Es un empate\"\n",
    "        elif computadora == \"papel\":\n",
    "            estado = \"Usted pierde\"\n",
    "        else:\n",
    "            estado = \"Usted gano!!!\"\n",
    "    elif jugador == \"papel\":\n",
    "        if computadora == \"piedra\":\n",
    "            estado = \"Usted gano!!!\"\n",
    "        elif computadora == \"papel\":\n",
    "            estado = \"Es un empate\"\n",
    "        else:\n",
    "            estado = \"Usted pierde\"\n",
    "    else:\n",
    "        if computadora == \"piedra\":\n",
    "            estado = \"Usted pierde\"\n",
    "        elif computadora == \"papel\":\n",
    "            estado = \"Usted gano!!!\"\n",
    "        else:\n",
    "            estado = \"Es un empate\"\n",
    "\n",
    "    print(\"Jugador: \" + jugador + \"\\nComputadora: \" + computadora + \"\\n---\"+ estado + \"---\\n\")\n",
    "\n",
    "print(\"\\n----Juego Piedra, Papel y Tijeras----\")\n",
    "\n",
    "elecciones = [\"piedra\", \"papel\", \"tijeras\"]\n",
    "computadora = elecciones[randint(0, 2)]\n",
    "\n",
    "while True:\n",
    "    jugador = input(\"Introduzca que elegira:\\n - Piedra\\n - Papel\\n - Tijeras\\n\\n - Salir\").lower()\n",
    "    \n",
    "    if jugador in elecciones:\n",
    "        jugar()\n",
    "    elif jugador == \"salir\":\n",
    "        break\n",
    "    else:\n",
    "        print(\"Opcion no valida\")\n",
    "\n"
   ]
  },
  {
   "cell_type": "markdown",
   "id": "8c1572e8-7c0d-41ce-a229-768dc2680fe5",
   "metadata": {},
   "source": [
    "-----\n",
    "### 7. Guess the number <a name=\"id7\"></a>\n",
    "- Pedir al usuario un numero entre el 1 y el 50.\n",
    "- Notificar al usuario cuando introduzca un numero fuera del rango.\n",
    "- Dejar que el usuario adivine el numero.\n",
    "- Cada que no adivinan el numero, preguntar si quiere seguir jugando o si quiere salir.\n",
    "- Cuando adivinen el numero, felicitar al usuario y decirle su numero de intentos."
   ]
  },
  {
   "cell_type": "code",
   "execution_count": 4,
   "id": "73f7065f-4702-42fa-a089-ce0704e38219",
   "metadata": {},
   "outputs": [
    {
     "name": "stdout",
     "output_type": "stream",
     "text": [
      "--Adivinar numero--\n",
      "\n",
      "Muy bajo\n",
      "\n",
      "Muy alto\n",
      "\n",
      "Muy bajo\n",
      "\n",
      "Muy alto\n",
      "\n",
      "Muy bajo\n",
      "\n",
      "\n",
      "\n",
      "----Felicidades, acertaste usando 6 intentos----\n"
     ]
    }
   ],
   "source": [
    "import random\n",
    "\n",
    "numero = random.randrange(1, 50)\n",
    "total = 0\n",
    "\n",
    "def jugar(intento):\n",
    "    if intento == numero:\n",
    "        print (\"\\n\\n----Felicidades, acertaste usando \" + str(total) + \" intentos----\")\n",
    "        return True\n",
    "    elif intento > numero:\n",
    "        print(\"Muy alto\\n\")\n",
    "    else:\n",
    "        print(\"Muy bajo\\n\")\n",
    "    return False\n",
    "\n",
    "print(\"--Adivinar numero--\\n\")\n",
    "\n",
    "while True:\n",
    "    total += 1\n",
    "    intento = input(\"\\nIngresa un numero del 1 al 50: \")\n",
    "    \n",
    "    if intento.isnumeric() and int(intento) > 0 and int(intento) < 51:\n",
    "        if not jugar(int(intento)):\n",
    "            valor = input(\"Introduce: Salir, si quieres dejar de jugar\")\n",
    "            \n",
    "            if valor == \"Salir\":\n",
    "                break\n",
    "        else:\n",
    "            break\n",
    "    else:\n",
    "        print(\"Introduce un numero dentro del rango\")\n",
    "    "
   ]
  },
  {
   "cell_type": "markdown",
   "id": "8c4ace57-3c75-4d13-b6e2-42cf8e42e3bb",
   "metadata": {},
   "source": [
    "-----\n",
    "### 8. Is a palindrome <a name=\"id8\"></a>\n",
    "- Pedir al usuario que introduzca 5 palabras.\n",
    "- Checar que si cada palabra es palindroma **(palabra que significa lo mismo al reves)**.\n",
    "- Notificar el resultado al usuario"
   ]
  },
  {
   "cell_type": "code",
   "execution_count": 3,
   "id": "71171896-e6bd-4dd8-996f-c0eff0dcb875",
   "metadata": {},
   "outputs": [
    {
     "name": "stdout",
     "output_type": "stream",
     "text": [
      "\n",
      "La palabra: \"ana\" es palindroma\n",
      "\n",
      "Cuando cheque la palabra: \"hola\", me resulto que no era palindroma\n",
      "\n",
      "Cuando cheque la palabra: \"tipo\", me resulto que no era palindroma\n",
      "\n",
      "La palabra: \"ala\" es palindroma\n",
      "\n",
      "Cuando cheque la palabra: \"pollo\", me resulto que no era palindroma\n"
     ]
    }
   ],
   "source": [
    "lista = [\"\", \"\", \"\", \"\", \"\"]\n",
    "i = 0\n",
    "\n",
    "def checar_palindromo(palabra):\n",
    "    intentoPalindromo = palabra[:: - 1]\n",
    "    if intentoPalindromo == palabra:\n",
    "        print(\"\\nLa palabra: \\\"\" + palabra + \"\\\" es palindroma\")\n",
    "    else:\n",
    "        print(\"\\nCuando cheque la palabra: \\\"\" + palabra + \"\\\", me resulto que no era palindroma\")\n",
    "        \n",
    "\n",
    "while i < 5:\n",
    "    lista[i] = input(str(i + 1) + \". Introduzca una palabra: \").lower()\n",
    "    i += 1\n",
    "    \n",
    "for palabra in lista:\n",
    "    checar_palindromo(palabra)"
   ]
  },
  {
   "cell_type": "markdown",
   "id": "b9f2399d-b081-483b-89dd-017723022f09",
   "metadata": {},
   "source": [
    "-----\n",
    "### 9. Calculate the tip <a name=\"id9\"></a>\n",
    "- Preguntar por el total del pago.\n",
    "- Calcular la propina **(18%, 20% y 25%)**.\n",
    "- Redondear la propina."
   ]
  },
  {
   "cell_type": "code",
   "execution_count": 12,
   "id": "8a9f9542-d1fd-4af3-92fd-b1a0d4f684c9",
   "metadata": {},
   "outputs": [
    {
     "name": "stdout",
     "output_type": "stream",
     "text": [
      "Total: 8450.0\n",
      "Propina 18%: 1521\n",
      "Propina 20%: 1690\n",
      "Propina 25%: 2112\n"
     ]
    }
   ],
   "source": [
    "total = float(input(\"Introduzca el total del pago\"))\n",
    "propina = [round(total * 0.18), round(total * 0.2), round(total * 0.25)]\n",
    "\n",
    "print(\"Total: \" + str(total) + \"\\nPropina 18%: \" + str(propina[0]) + \"\\nPropina 20%: \" + str(propina[1]) + \"\\nPropina 25%: \" + str(propina[2]))\n"
   ]
  },
  {
   "cell_type": "markdown",
   "id": "a4b04ce8-74e8-4b07-920d-c1ae96414215",
   "metadata": {},
   "source": [
    "-----\n",
    "### 10. Email slicer <a name=\"id10\"></a>\n",
    "- Pedir el email de un usuario.\n",
    "- Determinar si este email tiene un nombre de dominio personalizado o uno popular."
   ]
  },
  {
   "cell_type": "code",
   "execution_count": 7,
   "id": "9cb2b49c-9f86-4631-9a6f-cf71657c061e",
   "metadata": {},
   "outputs": [
    {
     "name": "stdout",
     "output_type": "stream",
     "text": [
      "El dominio uabc.edu.mx, del correo: angel.escalante@uabc.edu.mx es un dominio personalizado\n"
     ]
    }
   ],
   "source": [
    "\n",
    "dominiosPopulares = [\"gmail.com\", \"outlook.com\", \"yahoo.com\", \"hotmail.com\"]\n",
    "correo = input(\"Introduce tu correo\")\n",
    "dominio = correo[correo.index(\"@\") + 1:]\n",
    "\n",
    "if dominio in dominiosPopulares:\n",
    "    print(\"El dominio: \" + dominio + \", del correo: \" + correo + \" es un dominio popular\")\n",
    "else:\n",
    "    print (\"El dominio \" + dominio + \", del correo: \" + correo + \" es un dominio personalizado\")"
   ]
  },
  {
   "cell_type": "markdown",
   "id": "257a604d-17b7-448a-898c-83f729e44496",
   "metadata": {},
   "source": [
    "-----\n",
    "### 11. Lyrics generator <a name=\"id11\"></a>\n",
    "- Pedirle al usuario que elija una cancion de una lista de 10 canciones.\n",
    "- Despues, imprimir las liricas de esa cancion."
   ]
  },
  {
   "cell_type": "code",
   "execution_count": 1,
   "id": "88943772-7ea9-4b55-bf79-17cddfd9e3c9",
   "metadata": {},
   "outputs": [
    {
     "name": "stdout",
     "output_type": "stream",
     "text": [
      "1. Rob Cantor - Cuckoo\n",
      "2. Mr.Kitty - After Dark\n",
      "3. Panic At The Disco - All by Yourself\n",
      "4. The Hoosiers - Killer\n",
      "5. Arctic Monkeys - Teddy Picker\n",
      "6. Pusha T & Mako - Misfit Toys\n",
      "7. Dirt Poor Robins - Scarecrows\n",
      "8. DragonForce - Symphony Of The Night\n",
      "9. Lemon Demon - Touch-Tone Telephone\n",
      "10. David Bowie - The Man Who Sold The World\n",
      "----Cancion: David Bowie - The Man Who Sold The World----\n",
      "\n",
      "\n",
      "We passed upon the stair\n",
      "We spoke of was and when\n",
      "Although I wasn't there\n",
      "He said I was his friend\n",
      "Which came as some surprise\n",
      "I spoke into his eyes, \"I thought you died alone\n",
      "A long, long time ago\"\n",
      "\n",
      "Oh no, not me\n",
      "I never lost control\n",
      "You're face to face\n",
      "With the man who sold the world\n",
      "\n",
      "I laughed and shook his hand\n",
      "And made my way back home\n",
      "I searched for form and land\n",
      "For years and years, I roamed\n",
      "I gazed a gazely stare\n",
      "At all the millions here\n",
      "We must have died alone\n",
      "A long long time ago\n",
      "\n",
      "Who knows? Not me\n",
      "We never lost control\n",
      "You're face to face\n",
      "With the man who sold the world\n",
      "\n",
      "Who knows? Not me\n",
      "We never lost control\n",
      "You're face to face\n",
      "With the man who sold the world\n"
     ]
    }
   ],
   "source": [
    "canciones = [\"Rob Cantor - Cuckoo\", \"Mr.Kitty - After Dark\", \"Panic At The Disco - All by Yourself\", \"The Hoosiers - Killer\", \"Arctic Monkeys - Teddy Picker\", \"Pusha T & Mako - Misfit Toys\", \"Dirt Poor Robins - Scarecrows\", \"DragonForce - Symphony Of The Night\", \"Lemon Demon - Touch-Tone Telephone\", \"David Bowie - The Man Who Sold The World\"]\n",
    "liricas = open(\"./canciones.txt\", \"r\")\n",
    "datos = liricas.read()\n",
    "datos = datos.split(':')\n",
    "i = 0\n",
    "\n",
    "for cancion in canciones:\n",
    "    print(str(i + 1) + \". \" + cancion)\n",
    "    i += 1\n",
    "\n",
    "while True:\n",
    "    eleccion = input(\"Elija el numero de la cancion que quiere ver (* para salir): \")\n",
    "\n",
    "    if (eleccion.isnumeric() and int(eleccion) - 1 > -1 and int(eleccion) - 1 < 10):\n",
    "        print(\"----Cancion: \" + canciones[int(eleccion) - 1] + \"----\\n\\n\")\n",
    "        print(datos[int(eleccion) - 1])\n",
    "    elif eleccion == \"*\":\n",
    "        break\n"
   ]
  }
 ],
 "metadata": {
  "kernelspec": {
   "display_name": "Python 3.11.0 64-bit",
   "language": "python",
   "name": "python3"
  },
  "language_info": {
   "codemirror_mode": {
    "name": "ipython",
    "version": 3
   },
   "file_extension": ".py",
   "mimetype": "text/x-python",
   "name": "python",
   "nbconvert_exporter": "python",
   "pygments_lexer": "ipython3",
   "version": "3.11.0"
  },
  "vscode": {
   "interpreter": {
    "hash": "eb2415bdbc1d022db7d5558b414965e2ce0d3e3ed56456b6ae50c4533ea7e1c5"
   }
  }
 },
 "nbformat": 4,
 "nbformat_minor": 5
}
